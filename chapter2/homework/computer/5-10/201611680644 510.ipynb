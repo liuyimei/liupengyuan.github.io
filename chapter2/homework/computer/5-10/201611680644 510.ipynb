{
 "cells": [
  {
   "cell_type": "code",
   "execution_count": 5,
   "metadata": {
    "collapsed": true
   },
   "outputs": [],
   "source": [
    "import random\n",
    "\n",
    "def win():\n",
    "    print(\n",
    "        '''\n",
    "           ======恭喜你，你赢了=======\n",
    "        \n",
    "    \n",
    "                .\"\".    .\"\",\n",
    "                |  |   /  /\n",
    "                |  |  /  /\n",
    "                |  | /  /\n",
    "                |  |/  ;-._ \n",
    "                }  ` _/  / ;\n",
    "                |  /` ) /  /\n",
    "                | /  /_/\\_/\\\n",
    "                |/  /      |\n",
    "                (  ' \\ '-  |\n",
    "                 \\    `.  /\n",
    "                  |      |\n",
    "                  |      |\n",
    "          \n",
    "          ======恭喜你，你赢了=======\n",
    "        '''\n",
    "    )\n",
    "    \n",
    "def lose():\n",
    "    print(\n",
    "        '''\n",
    "           ======YOU LOSE=======\n",
    "        \n",
    "    \n",
    "                \n",
    "\n",
    "                   .-\"      \"-.\n",
    "                  /            \\\n",
    "                 |              |\n",
    "                 |,  .-.  .-.  ,|\n",
    "                 | )(__/  \\__)( |\n",
    "                 |/     /\\     \\|\n",
    "       (@_       (_     ^^     _)\n",
    "  _     ) \\_______\\__|IIIIII|__/__________________________\n",
    " (_)@8@8{}<________|-\\IIIIII/-|___________________________>\n",
    "        )_/        \\          /\n",
    "       (@           `--------`\n",
    "       \n",
    "       \n",
    "       \n",
    "          ======YOU LOSE=======\n",
    "        '''\n",
    "    )\n",
    "    \n",
    "def get_ch_table(line):\n",
    "    ch_table = []\n",
    "    for ch in line:\n",
    "        if ch not in ch_table:\n",
    "            ch_table.append(ch)\n",
    "    return ch_table\n",
    "\n",
    "def idiom_robot(file_name):\n",
    "    with open(file_name) as fh:\n",
    "        text = fh.read()\n",
    "    idioms = text.split()\n",
    "    idiom = random.choice(idioms)\n",
    "    chs = get_ch_table(text.replace(r'\\n', ''))\n",
    "\n",
    "    guess_ch_table = [ch for ch in idiom]\n",
    "    while len(guess_ch_table) < 6:\n",
    "        ch = random.choice(chs)\n",
    "        if ch not in guess_ch_table:\n",
    "            guess_ch_table.append(ch)\n",
    "    \n",
    "    random.shuffle(guess_ch_table)\n",
    "    \n",
    "    for i in range(0,6,2):\n",
    "        print(guess_ch_table[i], guess_ch_table[i+1])\n",
    "    \n",
    "    return idiom\n",
    "\n",
    "def main():\n",
    "    filename = r'C:\\Users\\ASUS\\Desktop\\idioms.txt'\n",
    "    score = 10\n",
    "    while score >= 0:\n",
    "        real_idiom = idiom_robot(filename)\n",
    "        answer_idiom = input('请输入猜测成语，回车结束，直接回车表示退出游戏：')\n",
    "        if answer_idiom == real_idiom:\n",
    "            print('答对了，加十分')\n",
    "            score += 10\n",
    "            print('你当前的分数是：', score)\n",
    "            if score == 100:\n",
    "                win()\n",
    "                return\n",
    "        elif answer_idiom == '':\n",
    "            print('退出游戏。')\n",
    "            print('你最后的分数是：', score)\n",
    "            return\n",
    "        else:\n",
    "            score -= 10\n",
    "            print('答错了，减十分')\n",
    "            print('成语其实是：', real_idiom)\n",
    "            print('你当前的分数是：', score)\n",
    "    else:\n",
    "        lose()\n",
    "        return\n",
    "\n",
    "    \n",
    "if __name__ == '__main()__':\n",
    "    main()"
   ]
  },
  {
   "cell_type": "code",
   "execution_count": 3,
   "metadata": {
    "collapsed": false
   },
   "outputs": [
    {
     "name": "stdout",
     "output_type": "stream",
     "text": [
      "9\n",
      "asdfghjkl\n"
     ]
    }
   ],
   "source": [
    "#(先看有关ASCII码的相关知识以及码表，查维基百科或百度百科)\n",
    "\n",
    "#输入：一个txt文件(假设全是字母的英文词，每个单词之间用单个空格隔开，假设单词最长为10个字母)\n",
    "\n",
    "#加密：得到每个单词的长度n，随机生成一个9位的数字，将n-1与这个9位的数字连接，形成一个10位的数字，作为密匙key。\n",
    "#依照key中各个数字对单词中每一个对应位置的字母进行向后移位(例：如过key中某数字为2，对应该位置的字母为a，\n",
    "#加密则应移位成c，如果超过z，则回到A处继续移位)，对长度不到10的单词，移位后，将移位后的单词利用随机字母补全\n",
    "#到10个，最终形成以10个字母为一个单词，并以单个空格分割的加密文本，存入文件。\n",
    "\n",
    "#解密：给定该文本文件并给定key(10位数字)，恢复原来的文本。\n",
    "\n",
    "#(提示，利用ord()及chr()函数，ord(x)是取得字符x的ASCII码，chr(n)是取得整数n(代表ASCII码)对应的字符。\n",
    "#例：ord(a)的值为97，chr(97)的值为'a'，因字母a的ASCII码值为97。)\n",
    "\n",
    "fh = open(r'C:\\Users\\ASUS\\Desktop\\English.txt')\n",
    "text = fh.read()\n",
    "fh.close()\n",
    "print(len(text))\n",
    "print(text)\n",
    "\n"
   ]
  },
  {
   "cell_type": "code",
   "execution_count": 4,
   "metadata": {
    "collapsed": false
   },
   "outputs": [
    {
     "ename": "NameError",
     "evalue": "name 'correct_English' is not defined",
     "output_type": "error",
     "traceback": [
      "\u001b[0;31m---------------------------------------------------------------------------\u001b[0m",
      "\u001b[0;31mNameError\u001b[0m                                 Traceback (most recent call last)",
      "\u001b[0;32m<ipython-input-4-8843cbb28433>\u001b[0m in \u001b[0;36m<module>\u001b[0;34m()\u001b[0m\n\u001b[1;32m      4\u001b[0m \u001b[1;32mfor\u001b[0m \u001b[0mEnglish\u001b[0m \u001b[1;32min\u001b[0m \u001b[0mEnglish\u001b[0m\u001b[1;33m:\u001b[0m\u001b[1;33m\u001b[0m\u001b[0m\n\u001b[1;32m      5\u001b[0m     \u001b[0mcorrect_English\u001b[0m\u001b[1;33m.\u001b[0m\u001b[0mappend\u001b[0m\u001b[1;33m(\u001b[0m\u001b[0midiom\u001b[0m\u001b[1;33m+\u001b[0m\u001b[1;34m'\\n'\u001b[0m\u001b[1;33m)\u001b[0m\u001b[1;33m\u001b[0m\u001b[0m\n\u001b[0;32m----> 6\u001b[0;31m \u001b[0mfh\u001b[0m\u001b[1;33m.\u001b[0m\u001b[0mwritelines\u001b[0m\u001b[1;33m(\u001b[0m\u001b[0mcorrect_English\u001b[0m\u001b[1;33m)\u001b[0m\u001b[1;33m\u001b[0m\u001b[0m\n\u001b[0m\u001b[1;32m      7\u001b[0m \u001b[0mfh\u001b[0m\u001b[1;33m.\u001b[0m\u001b[0mclose\u001b[0m\u001b[1;33m(\u001b[0m\u001b[1;33m)\u001b[0m\u001b[1;33m\u001b[0m\u001b[0m\n\u001b[1;32m      8\u001b[0m \u001b[0mprint\u001b[0m\u001b[1;33m(\u001b[0m\u001b[0mcorrect_English\u001b[0m\u001b[1;33m)\u001b[0m\u001b[1;33m\u001b[0m\u001b[0m\n",
      "\u001b[0;31mNameError\u001b[0m: name 'correct_English' is not defined"
     ]
    }
   ],
   "source": [
    "#输入：一个txt文件(假设全是字母的英文词，每个单词之间用单个空格隔开，假设单词最长为10个字母)\n",
    "English=[]\n",
    "fh = open(r'C:\\Users\\ASUS\\Desktop\\English_correct.txt', 'w')\n",
    "for English in English:\n",
    "    correct_English.append(idiom+'\\n')\n",
    "fh.writelines(correct_English)\n",
    "fh.close()\n",
    "print(correct_English)"
   ]
  },
  {
   "cell_type": "code",
   "execution_count": 3,
   "metadata": {
    "collapsed": false
   },
   "outputs": [
    {
     "ename": "NameError",
     "evalue": "name 'text' is not defined",
     "output_type": "error",
     "traceback": [
      "\u001b[0;31m---------------------------------------------------------------------------\u001b[0m",
      "\u001b[0;31mNameError\u001b[0m                                 Traceback (most recent call last)",
      "\u001b[0;32m<ipython-input-3-ea3a1c886afc>\u001b[0m in \u001b[0;36m<module>\u001b[0;34m()\u001b[0m\n\u001b[1;32m      6\u001b[0m \u001b[1;31m#例：ord(a)的值为97，chr(97)的值为'a'，因字母a的ASCII码值为97。)\u001b[0m\u001b[1;33m\u001b[0m\u001b[1;33m\u001b[0m\u001b[0m\n\u001b[1;32m      7\u001b[0m \u001b[1;32mimport\u001b[0m \u001b[0mrandom\u001b[0m\u001b[1;33m\u001b[0m\u001b[0m\n\u001b[0;32m----> 8\u001b[0;31m \u001b[0mb\u001b[0m\u001b[1;33m=\u001b[0m\u001b[0mlen\u001b[0m\u001b[1;33m(\u001b[0m\u001b[0mtext\u001b[0m\u001b[1;33m)\u001b[0m\u001b[1;33m\u001b[0m\u001b[0m\n\u001b[0m\u001b[1;32m      9\u001b[0m \u001b[1;32mfor\u001b[0m \u001b[0mj\u001b[0m \u001b[1;32min\u001b[0m \u001b[0mrange\u001b[0m\u001b[1;33m(\u001b[0m\u001b[1;36m1\u001b[0m\u001b[1;33m,\u001b[0m\u001b[0mb\u001b[0m\u001b[1;33m+\u001b[0m\u001b[1;36m1\u001b[0m\u001b[1;33m)\u001b[0m\u001b[1;33m:\u001b[0m\u001b[1;33m\u001b[0m\u001b[0m\n\u001b[1;32m     10\u001b[0m     \u001b[0mn\u001b[0m\u001b[1;33m=\u001b[0m\u001b[0mlen\u001b[0m\u001b[1;33m(\u001b[0m\u001b[0mword\u001b[0m\u001b[1;33m[\u001b[0m\u001b[0mj\u001b[0m\u001b[1;33m]\u001b[0m\u001b[1;33m)\u001b[0m\u001b[1;33m\u001b[0m\u001b[0m\n",
      "\u001b[0;31mNameError\u001b[0m: name 'text' is not defined"
     ]
    }
   ],
   "source": [
    "#加密：得到每个单词的长度n，随机生成一个9位的数字，将n-1与这个9位的数字连接，形成一个10位的数字，作为密匙key。\n",
    "#依照key中各个数字对单词中每一个对应位置的字母进行向后移位(例：如过key中某数字为2，对应该位置的字母为a，\n",
    "#加密则应移位成c，如果超过z，则回到A处继续移位)，对长度不到10的单词，移位后，将移位后的单词利用随机字母补全\n",
    "#到10个，最终形成以10个字母为一个单词，并以单个空格分割的加密文本，存入文件。\n",
    "#(提示，利用ord()及chr()函数，ord(x)是取得字符x的ASCII码，chr(n)是取得整数n(代表ASCII码)对应的字符。\n",
    "#例：ord(a)的值为97，chr(97)的值为'a'，因字母a的ASCII码值为97。)\n",
    "import random\n",
    "b=len(text)\n",
    "for j in range(1,b+1):\n",
    "    n=len(word[j])\n",
    "    a=str(random.randrange(1,10,9))\n",
    "    key=str(n-1)+a\n",
    "    if n==10:\n",
    "        for i in range(1,11):\n",
    "            if ord(word[i])+int(a[i])< ord(z):\n",
    "                worf[i]=chr(ord(word[i])+int(a[i]))\n",
    "            else:\n",
    "                b=int(ord(word[i])+int(a[i])-ord(z))\n",
    "                word[i]=chr(ord(a)+b)\n",
    "        print(word,'\\n')\n",
    "    else:\n",
    "        for i in range(1,n):\n",
    "            if ord(word[i])+int(a[i])< ord(z):\n",
    "                worf[i]=chr(ord(word[i])+int(a[i]))\n",
    "            else:\n",
    "                b=int(ord(word[i])+int(a[i])-ord(z))\n",
    "                word[i]=chr(ord(a)+b)\n",
    "        for i in range(n,11):\n",
    "            word[i]=random.randint(97, 122,(11-n))\n",
    "        print(word,'\\n')   \n",
    "fh = open(r'C:\\Users\\ASUS\\Desktop\\English_correct.txt', 'w')    \n",
    "fh.writelines(English)\n",
    "fh.close()"
   ]
  },
  {
   "cell_type": "code",
   "execution_count": 2,
   "metadata": {
    "collapsed": true
   },
   "outputs": [],
   "source": [
    "#解密：给定该文本文件并给定key(10位数字)，恢复原来的文本。\n",
    "key=('123456789')\n",
    "fh = open(r'C:\\Users\\ASUS\\Desktop\\English.txt')\n",
    "fh.close()"
   ]
  }
 ],
 "metadata": {
  "kernelspec": {
   "display_name": "Python 3",
   "language": "python",
   "name": "python3"
  }
 },
 "nbformat": 4,
 "nbformat_minor": 2
}
